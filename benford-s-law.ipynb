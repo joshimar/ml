{
 "cells": [
  {
   "cell_type": "code",
   "execution_count": 1,
   "id": "77815a45",
   "metadata": {
    "_cell_guid": "b1076dfc-b9ad-4769-8c92-a6c4dae69d19",
    "_uuid": "8f2839f25d086af736a60e9eeb907d3b93b6e0e5",
    "execution": {
     "iopub.execute_input": "2022-04-11T03:02:55.823854Z",
     "iopub.status.busy": "2022-04-11T03:02:55.823245Z",
     "iopub.status.idle": "2022-04-11T03:02:55.833128Z",
     "shell.execute_reply": "2022-04-11T03:02:55.832319Z",
     "shell.execute_reply.started": "2022-04-11T02:45:33.799386Z"
    },
    "papermill": {
     "duration": 0.032509,
     "end_time": "2022-04-11T03:02:55.833309",
     "exception": false,
     "start_time": "2022-04-11T03:02:55.800800",
     "status": "completed"
    },
    "tags": []
   },
   "outputs": [
    {
     "name": "stdout",
     "output_type": "stream",
     "text": [
      "/kaggle/input/data-of-atm-transaction-of-xyz-bank/AggregatedData.csv\n"
     ]
    }
   ],
   "source": [
    "# This Python 3 environment comes with many helpful analytics libraries installed\n",
    "# It is defined by the kaggle/python Docker image: https://github.com/kaggle/docker-python\n",
    "# For example, here's several helpful packages to load\n",
    "\n",
    "import numpy as np # linear algebra\n",
    "import pandas as pd # data processing, CSV file I/O (e.g. pd.read_csv)\n",
    "import math # to compute Benford's law\n",
    "import matplotlib.ticker as mtick # to format axis with percentage\n",
    "import matplotlib.pyplot as plt # to plot stats\n",
    "\n",
    "# Input data files are available in the read-only \"../input/\" directory\n",
    "# For example, running this (by clicking run or pressing Shift+Enter) will list all files under the input directory\n",
    "\n",
    "import os\n",
    "for dirname, _, filenames in os.walk('/kaggle/input'):\n",
    "    for filename in filenames:\n",
    "        print(os.path.join(dirname, filename))\n",
    "\n",
    "# You can write up to 20GB to the current directory (/kaggle/working/) that gets preserved as output when you create a version using \"Save & Run All\" \n",
    "# You can also write temporary files to /kaggle/temp/, but they won't be saved outside of the current session"
   ]
  },
  {
   "cell_type": "markdown",
   "id": "0a6de741",
   "metadata": {
    "papermill": {
     "duration": 0.010286,
     "end_time": "2022-04-11T03:02:55.855475",
     "exception": false,
     "start_time": "2022-04-11T03:02:55.845189",
     "status": "completed"
    },
    "tags": []
   },
   "source": [
    "**Define helper functions**"
   ]
  },
  {
   "cell_type": "code",
   "execution_count": 2,
   "id": "6a674db7",
   "metadata": {
    "execution": {
     "iopub.execute_input": "2022-04-11T03:02:55.884520Z",
     "iopub.status.busy": "2022-04-11T03:02:55.879309Z",
     "iopub.status.idle": "2022-04-11T03:02:55.890467Z",
     "shell.execute_reply": "2022-04-11T03:02:55.890950Z",
     "shell.execute_reply.started": "2022-04-11T02:45:36.869464Z"
    },
    "papermill": {
     "duration": 0.025178,
     "end_time": "2022-04-11T03:02:55.891128",
     "exception": false,
     "start_time": "2022-04-11T03:02:55.865950",
     "status": "completed"
    },
    "tags": []
   },
   "outputs": [],
   "source": [
    "def benfords_law(x):\n",
    "    return 100 * math.log10(1+(1/x))\n",
    "\n",
    "def leading_digit(x):\n",
    "    while (x >= 10):\n",
    "        x = x // 10\n",
    "    return x\n",
    "\n",
    "def compute_density(x):\n",
    "    sum = 0\n",
    "    for i in range(len(x)):\n",
    "        sum = sum + x[i]\n",
    "        \n",
    "    for i in range(len(x)):\n",
    "        x[i] = 100 * x[i] / sum  \n",
    "    \n",
    "    return x\n",
    "\n",
    "def compute_transactions_density(samples):\n",
    "    count = [0] * 9\n",
    "    for i in samples:\n",
    "        digit = leading_digit(i)\n",
    "        count[digit-1] = count[digit-1] + 1\n",
    "    \n",
    "    return compute_density(count);\n",
    "\n",
    "def generate_digits_density(samples):\n",
    "    count = [0] * 9\n",
    "    for i in range(1, samples+1):\n",
    "        digit = leading_digit(i)\n",
    "        count[digit-1] = count[digit-1] + 1\n",
    "    \n",
    "    return compute_density(count)\n",
    "\n",
    "def generate_fibonacci_density(samples):\n",
    "    count = [0] * 9\n",
    "    first = 0\n",
    "    second = 1\n",
    "    count[0] = 1\n",
    "    \n",
    "    for i in range(1, samples+1):\n",
    "        fibonacci = first + second\n",
    "        digit = leading_digit(fibonacci)\n",
    "        count[digit-1] = count[digit-1] + 1\n",
    "        \n",
    "        first = second\n",
    "        second = fibonacci\n",
    "\n",
    "    return compute_density(count)"
   ]
  },
  {
   "cell_type": "markdown",
   "id": "b16de9f7",
   "metadata": {
    "papermill": {
     "duration": 0.010418,
     "end_time": "2022-04-11T03:02:55.912401",
     "exception": false,
     "start_time": "2022-04-11T03:02:55.901983",
     "status": "completed"
    },
    "tags": []
   },
   "source": [
    "**Load the bank statements data into a pandas data frame**"
   ]
  },
  {
   "cell_type": "code",
   "execution_count": 3,
   "id": "72f3735e",
   "metadata": {
    "execution": {
     "iopub.execute_input": "2022-04-11T03:02:55.938263Z",
     "iopub.status.busy": "2022-04-11T03:02:55.937548Z",
     "iopub.status.idle": "2022-04-11T03:02:56.012410Z",
     "shell.execute_reply": "2022-04-11T03:02:56.012926Z",
     "shell.execute_reply.started": "2022-04-11T02:45:39.826496Z"
    },
    "papermill": {
     "duration": 0.090138,
     "end_time": "2022-04-11T03:02:56.013094",
     "exception": false,
     "start_time": "2022-04-11T03:02:55.922956",
     "status": "completed"
    },
    "tags": []
   },
   "outputs": [
    {
     "data": {
      "text/html": [
       "<div>\n",
       "<style scoped>\n",
       "    .dataframe tbody tr th:only-of-type {\n",
       "        vertical-align: middle;\n",
       "    }\n",
       "\n",
       "    .dataframe tbody tr th {\n",
       "        vertical-align: top;\n",
       "    }\n",
       "\n",
       "    .dataframe thead th {\n",
       "        text-align: right;\n",
       "    }\n",
       "</style>\n",
       "<table border=\"1\" class=\"dataframe\">\n",
       "  <thead>\n",
       "    <tr style=\"text-align: right;\">\n",
       "      <th></th>\n",
       "      <th>No Of Withdrawals</th>\n",
       "      <th>No Of XYZ Card Withdrawals</th>\n",
       "      <th>No Of Other Card Withdrawals</th>\n",
       "      <th>Total amount Withdrawn</th>\n",
       "      <th>Amount withdrawn XYZ Card</th>\n",
       "      <th>Amount withdrawn Other Card</th>\n",
       "    </tr>\n",
       "  </thead>\n",
       "  <tbody>\n",
       "    <tr>\n",
       "      <th>count</th>\n",
       "      <td>11589.000000</td>\n",
       "      <td>11589.000000</td>\n",
       "      <td>11589.000000</td>\n",
       "      <td>1.158900e+04</td>\n",
       "      <td>1.158900e+04</td>\n",
       "      <td>1.158900e+04</td>\n",
       "    </tr>\n",
       "    <tr>\n",
       "      <th>mean</th>\n",
       "      <td>123.341099</td>\n",
       "      <td>67.567694</td>\n",
       "      <td>55.773406</td>\n",
       "      <td>5.223059e+05</td>\n",
       "      <td>3.345604e+05</td>\n",
       "      <td>1.877455e+05</td>\n",
       "    </tr>\n",
       "    <tr>\n",
       "      <th>std</th>\n",
       "      <td>67.315288</td>\n",
       "      <td>47.849517</td>\n",
       "      <td>38.506475</td>\n",
       "      <td>3.248167e+05</td>\n",
       "      <td>2.470771e+05</td>\n",
       "      <td>1.502351e+05</td>\n",
       "    </tr>\n",
       "    <tr>\n",
       "      <th>min</th>\n",
       "      <td>1.000000</td>\n",
       "      <td>0.000000</td>\n",
       "      <td>0.000000</td>\n",
       "      <td>1.000000e+02</td>\n",
       "      <td>0.000000e+00</td>\n",
       "      <td>0.000000e+00</td>\n",
       "    </tr>\n",
       "    <tr>\n",
       "      <th>25%</th>\n",
       "      <td>79.000000</td>\n",
       "      <td>34.000000</td>\n",
       "      <td>25.000000</td>\n",
       "      <td>3.057000e+05</td>\n",
       "      <td>1.560000e+05</td>\n",
       "      <td>7.910000e+04</td>\n",
       "    </tr>\n",
       "    <tr>\n",
       "      <th>50%</th>\n",
       "      <td>115.000000</td>\n",
       "      <td>57.000000</td>\n",
       "      <td>50.000000</td>\n",
       "      <td>4.700000e+05</td>\n",
       "      <td>2.816000e+05</td>\n",
       "      <td>1.586000e+05</td>\n",
       "    </tr>\n",
       "    <tr>\n",
       "      <th>75%</th>\n",
       "      <td>158.000000</td>\n",
       "      <td>87.000000</td>\n",
       "      <td>78.000000</td>\n",
       "      <td>6.716000e+05</td>\n",
       "      <td>4.485000e+05</td>\n",
       "      <td>2.560000e+05</td>\n",
       "    </tr>\n",
       "    <tr>\n",
       "      <th>max</th>\n",
       "      <td>491.000000</td>\n",
       "      <td>345.000000</td>\n",
       "      <td>310.000000</td>\n",
       "      <td>2.549800e+06</td>\n",
       "      <td>1.907800e+06</td>\n",
       "      <td>1.472600e+06</td>\n",
       "    </tr>\n",
       "  </tbody>\n",
       "</table>\n",
       "</div>"
      ],
      "text/plain": [
       "       No Of Withdrawals  No Of XYZ Card Withdrawals  \\\n",
       "count       11589.000000                11589.000000   \n",
       "mean          123.341099                   67.567694   \n",
       "std            67.315288                   47.849517   \n",
       "min             1.000000                    0.000000   \n",
       "25%            79.000000                   34.000000   \n",
       "50%           115.000000                   57.000000   \n",
       "75%           158.000000                   87.000000   \n",
       "max           491.000000                  345.000000   \n",
       "\n",
       "       No Of Other Card Withdrawals  Total amount Withdrawn  \\\n",
       "count                  11589.000000            1.158900e+04   \n",
       "mean                      55.773406            5.223059e+05   \n",
       "std                       38.506475            3.248167e+05   \n",
       "min                        0.000000            1.000000e+02   \n",
       "25%                       25.000000            3.057000e+05   \n",
       "50%                       50.000000            4.700000e+05   \n",
       "75%                       78.000000            6.716000e+05   \n",
       "max                      310.000000            2.549800e+06   \n",
       "\n",
       "       Amount withdrawn XYZ Card  Amount withdrawn Other Card  \n",
       "count               1.158900e+04                 1.158900e+04  \n",
       "mean                3.345604e+05                 1.877455e+05  \n",
       "std                 2.470771e+05                 1.502351e+05  \n",
       "min                 0.000000e+00                 0.000000e+00  \n",
       "25%                 1.560000e+05                 7.910000e+04  \n",
       "50%                 2.816000e+05                 1.586000e+05  \n",
       "75%                 4.485000e+05                 2.560000e+05  \n",
       "max                 1.907800e+06                 1.472600e+06  "
      ]
     },
     "execution_count": 3,
     "metadata": {},
     "output_type": "execute_result"
    }
   ],
   "source": [
    "data = pd.read_csv('../input/data-of-atm-transaction-of-xyz-bank/AggregatedData.csv')\n",
    "data.describe()"
   ]
  },
  {
   "cell_type": "markdown",
   "id": "2a655979",
   "metadata": {
    "papermill": {
     "duration": 0.011781,
     "end_time": "2022-04-11T03:02:56.036293",
     "exception": false,
     "start_time": "2022-04-11T03:02:56.024512",
     "status": "completed"
    },
    "tags": []
   },
   "source": [
    "**Compute distribution from the first 2,000 positive integers**"
   ]
  },
  {
   "cell_type": "code",
   "execution_count": 4,
   "id": "db6e35f3",
   "metadata": {
    "execution": {
     "iopub.execute_input": "2022-04-11T03:02:56.061978Z",
     "iopub.status.busy": "2022-04-11T03:02:56.061354Z",
     "iopub.status.idle": "2022-04-11T03:02:56.375660Z",
     "shell.execute_reply": "2022-04-11T03:02:56.377245Z",
     "shell.execute_reply.started": "2022-04-11T02:51:11.217371Z"
    },
    "papermill": {
     "duration": 0.329968,
     "end_time": "2022-04-11T03:02:56.377686",
     "exception": false,
     "start_time": "2022-04-11T03:02:56.047718",
     "status": "completed"
    },
    "tags": []
   },
   "outputs": [
    {
     "data": {
      "image/png": "[encoded data removed]",
      "text/plain": [
       "<Figure size 432x288 with 2 Axes>"
      ]
     },
     "metadata": {
      "needs_background": "light"
     },
     "output_type": "display_data"
    }
   ],
   "source": [
    "x = np.arange(1, 10)\n",
    "x_benfords_law = np.array(list(map(benfords_law, x)))\n",
    "\n",
    "fig = plt.figure()\n",
    "a1 = fig.add_axes([0,0,1,1])\n",
    "a1.set_ylabel('Density')\n",
    "a1.set_xlabel('Leading digit')\n",
    "\n",
    "a1.plot(x, x_benfords_law, '-ob', linewidth=3)\n",
    "a1.yaxis.set_major_formatter(mtick.PercentFormatter())\n",
    "a1.set_ylim([0, 31])\n",
    "\n",
    "\n",
    "actual = generate_digits_density(2000)\n",
    "a2 = a1.twinx()\n",
    "a2.plot(x, actual,'-oy', linewidth=3)\n",
    "a2.yaxis.set_major_formatter(mtick.PercentFormatter())\n",
    "a2.set_ylim([0, 31])\n",
    "\n",
    "fig.legend(labels = ('Benford\\'s Law', 'First 2,000 positive integers\\''), bbox_to_anchor=(1.2, 1.0), loc='upper left')\n",
    "plt.show()"
   ]
  },
  {
   "cell_type": "markdown",
   "id": "0b21ab7e",
   "metadata": {
    "papermill": {
     "duration": 0.013611,
     "end_time": "2022-04-11T03:02:56.406047",
     "exception": false,
     "start_time": "2022-04-11T03:02:56.392436",
     "status": "completed"
    },
    "tags": []
   },
   "source": [
    "**Compute distribution from the first 2,000 Fibonacci numbers**"
   ]
  },
  {
   "cell_type": "code",
   "execution_count": 5,
   "id": "d5aa823b",
   "metadata": {
    "execution": {
     "iopub.execute_input": "2022-04-11T03:02:56.434435Z",
     "iopub.status.busy": "2022-04-11T03:02:56.433799Z",
     "iopub.status.idle": "2022-04-11T03:02:56.955369Z",
     "shell.execute_reply": "2022-04-11T03:02:56.954850Z",
     "shell.execute_reply.started": "2022-04-11T02:45:45.616602Z"
    },
    "papermill": {
     "duration": 0.536894,
     "end_time": "2022-04-11T03:02:56.955507",
     "exception": false,
     "start_time": "2022-04-11T03:02:56.418613",
     "status": "completed"
    },
    "tags": []
   },
   "outputs": [
    {
     "data": {
      "image/png": "[encoded data removed]",
      "text/plain": [
       "<Figure size 432x288 with 2 Axes>"
      ]
     },
     "metadata": {
      "needs_background": "light"
     },
     "output_type": "display_data"
    }
   ],
   "source": [
    "x = np.arange(1, 10)\n",
    "x_benfords_law = np.array(list(map(benfords_law, x)))\n",
    "\n",
    "fig = plt.figure()\n",
    "a1 = fig.add_axes([0,0,1,1])\n",
    "a1.set_ylabel('Density')\n",
    "a1.set_xlabel('Leading digit')\n",
    "\n",
    "a1.plot(x, x_benfords_law, '-ob', linewidth=3)\n",
    "a1.yaxis.set_major_formatter(mtick.PercentFormatter())\n",
    "a1.set_ylim([0, 31])\n",
    "\n",
    "actual = generate_fibonacci_density(2000)\n",
    "a2 = a1.twinx()\n",
    "a2.plot(x, actual,'-oy', linewidth=3)\n",
    "a2.yaxis.set_major_formatter(mtick.PercentFormatter())\n",
    "a2.set_ylim([0, 31])\n",
    "\n",
    "\n",
    "fig.legend(labels = ('Benford\\'s Law', 'First N fibonacci\\'s numbers'), bbox_to_anchor=(1.2, 1.0), loc='upper left')\n",
    "plt.show()"
   ]
  },
  {
   "cell_type": "markdown",
   "id": "094af57b",
   "metadata": {
    "papermill": {
     "duration": 0.013644,
     "end_time": "2022-04-11T03:02:56.983001",
     "exception": false,
     "start_time": "2022-04-11T03:02:56.969357",
     "status": "completed"
    },
    "tags": []
   },
   "source": [
    "**Compute ditribution from the bank transactions**"
   ]
  },
  {
   "cell_type": "code",
   "execution_count": 6,
   "id": "3177769a",
   "metadata": {
    "execution": {
     "iopub.execute_input": "2022-04-11T03:02:57.014072Z",
     "iopub.status.busy": "2022-04-11T03:02:57.013416Z",
     "iopub.status.idle": "2022-04-11T03:02:57.364474Z",
     "shell.execute_reply": "2022-04-11T03:02:57.363966Z",
     "shell.execute_reply.started": "2022-04-11T02:45:49.750693Z"
    },
    "papermill": {
     "duration": 0.36774,
     "end_time": "2022-04-11T03:02:57.364604",
     "exception": false,
     "start_time": "2022-04-11T03:02:56.996864",
     "status": "completed"
    },
    "tags": []
   },
   "outputs": [
    {
     "data": {
      "image/png": "[encoded data removed]",
      "text/plain": [
       "<Figure size 432x288 with 2 Axes>"
      ]
     },
     "metadata": {
      "needs_background": "light"
     },
     "output_type": "display_data"
    }
   ],
   "source": [
    "x = np.arange(1, 10)\n",
    "x_benfords_law = np.array(list(map(benfords_law, x)))\n",
    "\n",
    "fig = plt.figure()\n",
    "a1 = fig.add_axes([0,0,1,1])\n",
    "a1.set_ylabel('Density')\n",
    "a1.set_xlabel('Leading digit')\n",
    "\n",
    "a1.plot(x, x_benfords_law, '-ob', linewidth=3)\n",
    "a1.yaxis.set_major_formatter(mtick.PercentFormatter())\n",
    "a1.set_ylim([0, 35])\n",
    "\n",
    "actual = compute_transactions_density(data['Amount withdrawn Other Card'].values)\n",
    "a2 = a1.twinx()\n",
    "a2.plot(x, actual,'-oy', linewidth=3)\n",
    "a2.yaxis.set_major_formatter(mtick.PercentFormatter())\n",
    "a2.set_ylim([0, 35])\n",
    "\n",
    "\n",
    "fig.legend(labels = ('Benford\\'s Law', 'Bank transactions'), bbox_to_anchor=(1.2, 1.0), loc='upper left')\n",
    "plt.show()"
   ]
  }
 ],
 "metadata": {
  "kernelspec": {
   "display_name": "Python 3",
   "language": "python",
   "name": "python3"
  },
  "language_info": {
   "codemirror_mode": {
    "name": "ipython",
    "version": 3
   },
   "file_extension": ".py",
   "mimetype": "text/x-python",
   "name": "python",
   "nbconvert_exporter": "python",
   "pygments_lexer": "ipython3",
   "version": "3.7.12"
  },
  "papermill": {
   "default_parameters": {},
   "duration": 11.49455,
   "end_time": "2022-04-11T03:02:57.990370",
   "environment_variables": {},
   "exception": null,
   "input_path": "__notebook__.ipynb",
   "output_path": "__notebook__.ipynb",
   "parameters": {},
   "start_time": "2022-04-11T03:02:46.495820",
   "version": "2.3.3"
  }
 },
 "nbformat": 4,
 "nbformat_minor": 5
}
